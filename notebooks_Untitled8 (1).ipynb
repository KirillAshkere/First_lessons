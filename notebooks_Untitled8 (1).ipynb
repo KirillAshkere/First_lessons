{
  "metadata": {
    "language_info": {
      "codemirror_mode": {
        "name": "python",
        "version": 3
      },
      "file_extension": ".py",
      "mimetype": "text/x-python",
      "name": "python",
      "nbconvert_exporter": "python",
      "pygments_lexer": "ipython3",
      "version": "3.8"
    },
    "kernelspec": {
      "name": "python",
      "display_name": "Python (Pyodide)",
      "language": "python"
    }
  },
  "nbformat_minor": 4,
  "nbformat": 4,
  "cells": [
    {
      "cell_type": "code",
      "source": "#Тип данных: строки\n# Не изменяемый\nk='mkmkmklmlma'\nprint(k[0],k[-1])\nprint(len(k))\nprint(k[1:6])\nprint(k.upper())\nprint(k.count('m'))\nprint(k.replace('ma','am'))\nprint(k.split('m'))",
      "metadata": {
        "trusted": true
      },
      "execution_count": 12,
      "outputs": [
        {
          "ename": "<class 'SyntaxError'>",
          "evalue": "invalid syntax (<ipython-input-12-591d1720f725>, line 1)",
          "traceback": [
            "\u001b[0;36m  Input \u001b[0;32mIn [12]\u001b[0;36m\u001b[0m\n\u001b[0;31m    echo \"# First_lessons\" >> README.md\u001b[0m\n\u001b[0m         ^\u001b[0m\n\u001b[0;31mSyntaxError\u001b[0m\u001b[0;31m:\u001b[0m invalid syntax\n"
          ],
          "output_type": "error"
        }
      ]
    },
    {
      "cell_type": "code",
      "source": "#Тип данных: списки\n# Изменяемый\nexample_list_1= [i for i in range(0,15)]\nprint(example_list_1)\nprint(len(example_list_1))\n\nexample_list_2 = [19, 123, 3, 'Sell', 'fast', 'second']\nprint(example_list_2)\nprint(len(example_list_2))\n\nexample_list_3 = [i for i in range(0,50)]\nprint(example_list_3)\n\nprint(len(example_list_3))\n\nprint(example_list_1+example_list_2)\nFuncJoin = \" \".join(map(str,(example_list_1, example_list_2)))\nprint(example_list_1[-1], example_list_2[-1], example_list_3[-1])\nprint(FuncJoin)\n\n\nexample_list_1.append(8)\nprint(example_list_1)\nexample_list_2.append(8)\nprint(example_list_2)\nexample_list_3.pop(0)\nexample_list_3.pop(-1)\nprint(example_list_3)\n\nfrom random import randint\nSort_Example_list_3=[randint(0,50) for i in range(50)]\nprint(Sort_Example_list_3)\nSort_Example_list_3.sort()\nprint(Sort_Example_list_3)",
      "metadata": {
        "trusted": true
      },
      "execution_count": 105,
      "outputs": [
        {
          "name": "stdout",
          "text": "[0, 1, 2, 3, 4, 5, 6, 7, 8, 9, 10, 11, 12, 13, 14]\n15\n[19, 123, 3, 'Sell', 'fast', 'second']\n6\n[0, 1, 2, 3, 4, 5, 6, 7, 8, 9, 10, 11, 12, 13, 14, 15, 16, 17, 18, 19, 20, 21, 22, 23, 24, 25, 26, 27, 28, 29, 30, 31, 32, 33, 34, 35, 36, 37, 38, 39, 40, 41, 42, 43, 44, 45, 46, 47, 48, 49]\n50\n[0, 1, 2, 3, 4, 5, 6, 7, 8, 9, 10, 11, 12, 13, 14, 19, 123, 3, 'Sell', 'fast', 'second']\n14 second 49\n[0, 1, 2, 3, 4, 5, 6, 7, 8, 9, 10, 11, 12, 13, 14] [19, 123, 3, 'Sell', 'fast', 'second']\n[0, 1, 2, 3, 4, 5, 6, 7, 8, 9, 10, 11, 12, 13, 14, 8]\n[19, 123, 3, 'Sell', 'fast', 'second', 8]\n[1, 2, 3, 4, 5, 6, 7, 8, 9, 10, 11, 12, 13, 14, 15, 16, 17, 18, 19, 20, 21, 22, 23, 24, 25, 26, 27, 28, 29, 30, 31, 32, 33, 34, 35, 36, 37, 38, 39, 40, 41, 42, 43, 44, 45, 46, 47, 48]\n[48, 1, 3, 12, 49, 10, 6, 39, 19, 19, 6, 13, 4, 21, 39, 10, 33, 46, 38, 18, 31, 40, 44, 42, 24, 24, 3, 12, 35, 48, 19, 15, 39, 21, 37, 7, 47, 32, 0, 9, 30, 7, 38, 2, 43, 15, 8, 19, 49, 34]\n[0, 1, 2, 3, 3, 4, 6, 6, 7, 7, 8, 9, 10, 10, 12, 12, 13, 15, 15, 18, 19, 19, 19, 19, 21, 21, 24, 24, 30, 31, 32, 33, 34, 35, 37, 38, 38, 39, 39, 39, 40, 42, 43, 44, 46, 47, 48, 48, 49, 49]\n",
          "output_type": "stream"
        }
      ]
    },
    {
      "cell_type": "code",
      "source": "#Тип данных: словари\n# Изменяемый\nlondon = {'name': 'London1', 'location': 'London Str', 'vendor': 'Cisco'}\nlondon_co = {\n    'r1': {\n        'hostname': 'london_r1',\n        'location': '21 New Globe Walk',\n        'vendor': 'Cisco',\n        'model': '4451',\n        'ios': '15.4',\n        'ip': '10.255.0.1'\n    },\n    'r2': {\n        'hostname': 'london_r2',\n        'location': '21 New Globe Walk',\n        'vendor': 'Cisco',\n        'model': '4451',\n        'ios': '15.4',\n        'ip': '10.255.0.2'\n    },\n    'sw1': {\n        'hostname': 'london_sw1',\n        'location': '21 New Globe Walk',\n        'vendor': 'Cisco',\n        'model': '3850',\n        'ios': '3.6.XE',\n        'ip': '10.255.0.101'\n    }\n}\nprint(len(london))\nprint(len(london_co))\nprint(london.keys())\nprint(london_co.keys())\nprint(london.setdefault('vendor'))\nprint(london.get('vendor'))\nlondon['meta'] = 'object'\nprint(london)\nprint(london.values())\nprint(london.items())\ndel london_co['sw1']\nprint(london_co)\nlondon_co.update({'r2':'1234'})\nprint(london_co)",
      "metadata": {
        "trusted": true
      },
      "execution_count": 139,
      "outputs": [
        {
          "name": "stdout",
          "text": "3\n3\ndict_keys(['name', 'location', 'vendor'])\ndict_keys(['r1', 'r2', 'sw1'])\nCisco\nCisco\n{'name': 'London1', 'location': 'London Str', 'vendor': 'Cisco', 'meta': 'object'}\ndict_values(['London1', 'London Str', 'Cisco', 'object'])\ndict_items([('name', 'London1'), ('location', 'London Str'), ('vendor', 'Cisco'), ('meta', 'object')])\n{'r1': {'hostname': 'london_r1', 'location': '21 New Globe Walk', 'vendor': 'Cisco', 'model': '4451', 'ios': '15.4', 'ip': '10.255.0.1'}, 'r2': {'hostname': 'london_r2', 'location': '21 New Globe Walk', 'vendor': 'Cisco', 'model': '4451', 'ios': '15.4', 'ip': '10.255.0.2'}}\n{'r1': {'hostname': 'london_r1', 'location': '21 New Globe Walk', 'vendor': 'Cisco', 'model': '4451', 'ios': '15.4', 'ip': '10.255.0.1'}, 'r2': '1234'}\n",
          "output_type": "stream"
        }
      ]
    },
    {
      "cell_type": "code",
      "source": "#Тип данных: Кортежи\n# Не изменяемые \nlist_k=[ 'First', 'Second', 'Third', 'Four']\ntuple_list=tuple(list_k)\nprint(tuple_list)\nprint(tuple_list[0])\nsec_tuple = [i for i in range(0,12)]\nth_tuple = tuple(sec_tuple)\nprint(th_tuple)",
      "metadata": {
        "trusted": true
      },
      "execution_count": 145,
      "outputs": [
        {
          "name": "stdout",
          "text": "('First', 'Second', 'Third', 'Four')\nFirst\n(0, 1, 2, 3, 4, 5, 6, 7, 8, 9, 10, 11)\n",
          "output_type": "stream"
        }
      ]
    },
    {
      "cell_type": "code",
      "source": "#Тип данных: множества\n# Не изменяемые\nset_first=[i for i in range(10,21)]\nset_second=set(set_first)\nprint(set_second)\nset_second.add(30)\nprint(set_second)\nset_second.add(40)\nprint(set_second)\nset_second.discard(40)\nprint(set_second)\nset_th=[i for i in range(18,25)]\nset_f=set(set_th)\nset_second.update(set_f)\nset_second.discard(30)\nprint(set_second)",
      "metadata": {
        "trusted": true
      },
      "execution_count": 154,
      "outputs": [
        {
          "name": "stdout",
          "text": "{10, 11, 12, 13, 14, 15, 16, 17, 18, 19, 20}\n{10, 11, 12, 13, 14, 15, 16, 17, 18, 19, 20, 30}\n{40, 10, 11, 12, 13, 14, 15, 16, 17, 18, 19, 20, 30}\n{10, 11, 12, 13, 14, 15, 16, 17, 18, 19, 20, 30}\n{10, 11, 12, 13, 14, 15, 16, 17, 18, 19, 20, 21, 22, 23, 24}\n",
          "output_type": "stream"
        }
      ]
    },
    {
      "cell_type": "code",
      "source": "#Тип данных: Булевые \n# Не изменяемые \nbool_first = ['1','2','3',' ']\nbool_second = [None]\nprint(bool(bool_first))\nprint(bool(bool_second))\nprint(bool(bool_first==bool_second))\nprint(bool(bool_first[3]==bool_second))\nprint(bool(bool_first=='khjhj'))\nprint(bool(bool_second=='khjhj'))\nempty_value=None\nprint(bool(bool_first==empty_value))\nprint(bool(bool_second==empty_value))",
      "metadata": {
        "trusted": true
      },
      "execution_count": 186,
      "outputs": [
        {
          "name": "stdout",
          "text": "True\nTrue\nFalse\nFalse\nFalse\nFalse\nFalse\nFalse\n",
          "output_type": "stream"
        }
      ]
    },
    {
      "cell_type": "code",
      "source": "#Задание со звездочкой\nSpis=[i for i in range(0,10)]\nprint(Spis)\nMnoj=[i for i in range(0,10)]\nset_mnoj=set(Mnoj)\nprint(set_mnoj)\nkortj=[ 'First', 'Second', 'Third', 'Four', 'Five', 'Six', 'Seven', 'Eight', 'Nine', 'Ten']\ntuple_kortj=tuple(kortj)\nprint(tuple_kortj)\n\nimport sys\nprint(sys.getsizeof(Spis))\nprint(sys.getsizeof(set_mnoj))\nprint(sys.getsizeof(tuple_kortj))\n\nprint(type(Spis))\nprint(type(set_mnoj))\nprint(type(tuple_kortj))",
      "metadata": {
        "trusted": true
      },
      "execution_count": 10,
      "outputs": [
        {
          "name": "stdout",
          "text": "[0, 1, 2, 3, 4, 5, 6, 7, 8, 9]\n{0, 1, 2, 3, 4, 5, 6, 7, 8, 9}\n('First', 'Second', 'Third', 'Four', 'Five', 'Six', 'Seven', 'Eight', 'Nine', 'Ten')\n92\n364\n60\n<class 'list'>\n<class 'set'>\n<class 'tuple'>\n",
          "output_type": "stream"
        }
      ]
    },
    {
      "cell_type": "code",
      "source": "",
      "metadata": {},
      "execution_count": null,
      "outputs": []
    }
  ]
}